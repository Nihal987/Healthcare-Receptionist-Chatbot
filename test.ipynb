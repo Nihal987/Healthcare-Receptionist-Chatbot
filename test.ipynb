{
 "cells": [
  {
   "cell_type": "code",
   "execution_count": 26,
   "metadata": {},
   "outputs": [],
   "source": [
    "import os\n",
    "import json\n",
    "from google.cloud import dialogflow\n",
    "from google.api_core.exceptions import InvalidArgument\n",
    "\n",
    "os.environ[\"GOOGLE_APPLICATION_CREDENTIALS\"] = 'private_key.json'\n",
    "\n",
    "DIALOGFLOW_PROJECT_ID = 'receptionist-djjv'\n",
    "DIALOGFLOW_LANGUAGE_CODE = 'en'\n",
    "SESSION_ID = 'me'"
   ]
  },
  {
   "cell_type": "code",
   "execution_count": 47,
   "metadata": {},
   "outputs": [],
   "source": [
    "text_to_be_analyzed = input(\"User: \")"
   ]
  },
  {
   "cell_type": "code",
   "execution_count": 48,
   "metadata": {},
   "outputs": [],
   "source": [
    "session_client = dialogflow.SessionsClient()\n",
    "session = session_client.session_path(DIALOGFLOW_PROJECT_ID, SESSION_ID)\n",
    "text_input = dialogflow.TextInput(text=text_to_be_analyzed, language_code=DIALOGFLOW_LANGUAGE_CODE)\n",
    "query_input = dialogflow.QueryInput(text=text_input)"
   ]
  },
  {
   "cell_type": "code",
   "execution_count": 49,
   "metadata": {},
   "outputs": [],
   "source": [
    "try:\n",
    "    response = session_client.detect_intent(session=session, query_input=query_input)\n",
    "except InvalidArgument:\n",
    "    raise"
   ]
  },
  {
   "cell_type": "code",
   "execution_count": 60,
   "metadata": {},
   "outputs": [
    {
     "data": {
      "text/plain": [
       "[\"Thank you Nihal . Here's the appointment details. Is everything correct?\",\n",
       " ' Nihal, nihal@gmail.com, michael scott, 2022-03-11T12:00:00-05:00, 2022-03-11T12:00:00-05:00, ENT']"
      ]
     },
     "execution_count": 60,
     "metadata": {},
     "output_type": "execute_result"
    }
   ],
   "source": [
    "text"
   ]
  },
  {
   "cell_type": "code",
   "execution_count": 64,
   "metadata": {},
   "outputs": [],
   "source": [
    "text = response.query_result.fulfillment_text.split(\"|\")\n",
    "details_text = text[1]"
   ]
  },
  {
   "cell_type": "code",
   "execution_count": 65,
   "metadata": {},
   "outputs": [
    {
     "data": {
      "text/plain": [
       "' Nihal, nihal@gmail.com, michael scott, 2022-03-11T12:00:00-05:00, 2022-03-11T12:00:00-05:00, ENT'"
      ]
     },
     "execution_count": 65,
     "metadata": {},
     "output_type": "execute_result"
    }
   ],
   "source": [
    "details_text"
   ]
  },
  {
   "cell_type": "code",
   "execution_count": 66,
   "metadata": {},
   "outputs": [
    {
     "data": {
      "text/plain": [
       "[' Nihal',\n",
       " ' nihal@gmail.com',\n",
       " ' michael scott',\n",
       " ' 2022-03-11T12:00:00-05:00',\n",
       " ' 2022-03-11T12:00:00-05:00',\n",
       " ' ENT']"
      ]
     },
     "execution_count": 66,
     "metadata": {},
     "output_type": "execute_result"
    }
   ],
   "source": [
    "details_text.split(',')"
   ]
  },
  {
   "cell_type": "code",
   "execution_count": 53,
   "metadata": {},
   "outputs": [],
   "source": [
    "details = {\n",
    "    \"name\":None,\n",
    "    \"email\": None,\n",
    "    \"doctor\": None,\n",
    "    \"date\": None,\n",
    "    \"time\": None,\n",
    "    \"appointment\": None\n",
    "}"
   ]
  },
  {
   "cell_type": "code",
   "execution_count": 54,
   "metadata": {},
   "outputs": [],
   "source": [
    "details.update(zip(details,details_text.split()))"
   ]
  },
  {
   "cell_type": "code",
   "execution_count": 55,
   "metadata": {},
   "outputs": [
    {
     "data": {
      "text/plain": [
       "{'name': 'Nihal,',\n",
       " 'email': 'nihal@gmail.com,',\n",
       " 'doctor': 'michael',\n",
       " 'date': 'scott,',\n",
       " 'time': '2022-03-11T12:00:00-05:00,',\n",
       " 'appointment': '2022-03-11T12:00:00-05:00,'}"
      ]
     },
     "execution_count": 55,
     "metadata": {},
     "output_type": "execute_result"
    }
   ],
   "source": [
    "details"
   ]
  },
  {
   "cell_type": "code",
   "execution_count": 57,
   "metadata": {},
   "outputs": [],
   "source": [
    "date = details['date'].split('T')[0]"
   ]
  },
  {
   "cell_type": "code",
   "execution_count": 58,
   "metadata": {},
   "outputs": [
    {
     "data": {
      "text/plain": [
       "'scott,'"
      ]
     },
     "execution_count": 58,
     "metadata": {},
     "output_type": "execute_result"
    }
   ],
   "source": [
    "date"
   ]
  },
  {
   "cell_type": "code",
   "execution_count": 59,
   "metadata": {},
   "outputs": [
    {
     "data": {
      "text/plain": [
       "query_text: \"nihal@gmail.com\"\n",
       "parameters {\n",
       "  fields {\n",
       "    key: \"AppointmentType\"\n",
       "    value {\n",
       "      string_value: \"ENT\"\n",
       "    }\n",
       "  }\n",
       "  fields {\n",
       "    key: \"date\"\n",
       "    value {\n",
       "      string_value: \"2022-03-11T12:00:00-05:00\"\n",
       "    }\n",
       "  }\n",
       "  fields {\n",
       "    key: \"doctor\"\n",
       "    value {\n",
       "      string_value: \"michael scott\"\n",
       "    }\n",
       "  }\n",
       "  fields {\n",
       "    key: \"email\"\n",
       "    value {\n",
       "      string_value: \"nihal@gmail.com\"\n",
       "    }\n",
       "  }\n",
       "  fields {\n",
       "    key: \"name\"\n",
       "    value {\n",
       "      string_value: \"Nihal\"\n",
       "    }\n",
       "  }\n",
       "  fields {\n",
       "    key: \"time\"\n",
       "    value {\n",
       "      string_value: \"2022-03-11T12:00:00-05:00\"\n",
       "    }\n",
       "  }\n",
       "}\n",
       "all_required_params_present: true\n",
       "fulfillment_text: \"Thank you Nihal . Here\\'s the appointment details. Is everything correct?| Nihal, nihal@gmail.com, michael scott, 2022-03-11T12:00:00-05:00, 2022-03-11T12:00:00-05:00, ENT\"\n",
       "fulfillment_messages {\n",
       "  text {\n",
       "    text: \"Thank you Nihal . Here\\'s the appointment details. Is everything correct?| Nihal, nihal@gmail.com, michael scott, 2022-03-11T12:00:00-05:00, 2022-03-11T12:00:00-05:00, ENT\"\n",
       "  }\n",
       "}\n",
       "output_contexts {\n",
       "  name: \"projects/receptionist-djjv/agent/sessions/me/contexts/appointment-confirm\"\n",
       "  lifespan_count: 1\n",
       "  parameters {\n",
       "    fields {\n",
       "      key: \"AppointmentType\"\n",
       "      value {\n",
       "        string_value: \"ENT\"\n",
       "      }\n",
       "    }\n",
       "    fields {\n",
       "      key: \"AppointmentType.original\"\n",
       "      value {\n",
       "        string_value: \"\"\n",
       "      }\n",
       "    }\n",
       "    fields {\n",
       "      key: \"date\"\n",
       "      value {\n",
       "        string_value: \"2022-03-11T12:00:00-05:00\"\n",
       "      }\n",
       "    }\n",
       "    fields {\n",
       "      key: \"date.original\"\n",
       "      value {\n",
       "        string_value: \"\"\n",
       "      }\n",
       "    }\n",
       "    fields {\n",
       "      key: \"doctor\"\n",
       "      value {\n",
       "        string_value: \"michael scott\"\n",
       "      }\n",
       "    }\n",
       "    fields {\n",
       "      key: \"doctor.original\"\n",
       "      value {\n",
       "        string_value: \"\"\n",
       "      }\n",
       "    }\n",
       "    fields {\n",
       "      key: \"email\"\n",
       "      value {\n",
       "        string_value: \"nihal@gmail.com\"\n",
       "      }\n",
       "    }\n",
       "    fields {\n",
       "      key: \"email.original\"\n",
       "      value {\n",
       "        string_value: \"nihal@gmail.com\"\n",
       "      }\n",
       "    }\n",
       "    fields {\n",
       "      key: \"name\"\n",
       "      value {\n",
       "        string_value: \"Nihal\"\n",
       "      }\n",
       "    }\n",
       "    fields {\n",
       "      key: \"name.original\"\n",
       "      value {\n",
       "        string_value: \"nihal\"\n",
       "      }\n",
       "    }\n",
       "    fields {\n",
       "      key: \"time\"\n",
       "      value {\n",
       "        string_value: \"2022-03-11T12:00:00-05:00\"\n",
       "      }\n",
       "    }\n",
       "    fields {\n",
       "      key: \"time.original\"\n",
       "      value {\n",
       "        string_value: \"\"\n",
       "      }\n",
       "    }\n",
       "  }\n",
       "}\n",
       "output_contexts {\n",
       "  name: \"projects/receptionist-djjv/agent/sessions/me/contexts/slots\"\n",
       "  lifespan_count: 4\n",
       "  parameters {\n",
       "    fields {\n",
       "      key: \"AppointmentType\"\n",
       "      value {\n",
       "        string_value: \"ENT\"\n",
       "      }\n",
       "    }\n",
       "    fields {\n",
       "      key: \"AppointmentType.original\"\n",
       "      value {\n",
       "        string_value: \"\"\n",
       "      }\n",
       "    }\n",
       "    fields {\n",
       "      key: \"date\"\n",
       "      value {\n",
       "        string_value: \"2022-03-11T12:00:00-05:00\"\n",
       "      }\n",
       "    }\n",
       "    fields {\n",
       "      key: \"date.original\"\n",
       "      value {\n",
       "        string_value: \"\"\n",
       "      }\n",
       "    }\n",
       "    fields {\n",
       "      key: \"doctor\"\n",
       "      value {\n",
       "        string_value: \"michael scott\"\n",
       "      }\n",
       "    }\n",
       "    fields {\n",
       "      key: \"doctor.original\"\n",
       "      value {\n",
       "        string_value: \"\"\n",
       "      }\n",
       "    }\n",
       "    fields {\n",
       "      key: \"email\"\n",
       "      value {\n",
       "        string_value: \"nihal@gmail.com\"\n",
       "      }\n",
       "    }\n",
       "    fields {\n",
       "      key: \"email.original\"\n",
       "      value {\n",
       "        string_value: \"nihal@gmail.com\"\n",
       "      }\n",
       "    }\n",
       "    fields {\n",
       "      key: \"name\"\n",
       "      value {\n",
       "        string_value: \"Nihal\"\n",
       "      }\n",
       "    }\n",
       "    fields {\n",
       "      key: \"name.original\"\n",
       "      value {\n",
       "        string_value: \"nihal\"\n",
       "      }\n",
       "    }\n",
       "    fields {\n",
       "      key: \"time\"\n",
       "      value {\n",
       "        string_value: \"2022-03-11T12:00:00-05:00\"\n",
       "      }\n",
       "    }\n",
       "    fields {\n",
       "      key: \"time.original\"\n",
       "      value {\n",
       "        string_value: \"\"\n",
       "      }\n",
       "    }\n",
       "  }\n",
       "}\n",
       "output_contexts {\n",
       "  name: \"projects/receptionist-djjv/agent/sessions/me/contexts/appointment-details\"\n",
       "  lifespan_count: 4\n",
       "  parameters {\n",
       "    fields {\n",
       "      key: \"AppointmentType\"\n",
       "      value {\n",
       "        string_value: \"ENT\"\n",
       "      }\n",
       "    }\n",
       "    fields {\n",
       "      key: \"AppointmentType.original\"\n",
       "      value {\n",
       "        string_value: \"\"\n",
       "      }\n",
       "    }\n",
       "    fields {\n",
       "      key: \"date\"\n",
       "      value {\n",
       "        string_value: \"2022-03-11T12:00:00-05:00\"\n",
       "      }\n",
       "    }\n",
       "    fields {\n",
       "      key: \"date.original\"\n",
       "      value {\n",
       "        string_value: \"\"\n",
       "      }\n",
       "    }\n",
       "    fields {\n",
       "      key: \"doctor\"\n",
       "      value {\n",
       "        string_value: \"michael scott\"\n",
       "      }\n",
       "    }\n",
       "    fields {\n",
       "      key: \"doctor.original\"\n",
       "      value {\n",
       "        string_value: \"\"\n",
       "      }\n",
       "    }\n",
       "    fields {\n",
       "      key: \"email\"\n",
       "      value {\n",
       "        string_value: \"nihal@gmail.com\"\n",
       "      }\n",
       "    }\n",
       "    fields {\n",
       "      key: \"email.original\"\n",
       "      value {\n",
       "        string_value: \"nihal@gmail.com\"\n",
       "      }\n",
       "    }\n",
       "    fields {\n",
       "      key: \"name\"\n",
       "      value {\n",
       "        string_value: \"Nihal\"\n",
       "      }\n",
       "    }\n",
       "    fields {\n",
       "      key: \"name.original\"\n",
       "      value {\n",
       "        string_value: \"nihal\"\n",
       "      }\n",
       "    }\n",
       "    fields {\n",
       "      key: \"time\"\n",
       "      value {\n",
       "        string_value: \"2022-03-11T12:00:00-05:00\"\n",
       "      }\n",
       "    }\n",
       "    fields {\n",
       "      key: \"time.original\"\n",
       "      value {\n",
       "        string_value: \"\"\n",
       "      }\n",
       "    }\n",
       "  }\n",
       "}\n",
       "intent {\n",
       "  name: \"projects/receptionist-djjv/agent/intents/c0bfa834-4fe5-4269-92d1-1ef1fa9ce8c0\"\n",
       "  display_name: \"appointment.book.details\"\n",
       "}\n",
       "intent_detection_confidence: 1.0\n",
       "language_code: \"en\""
      ]
     },
     "execution_count": 59,
     "metadata": {},
     "output_type": "execute_result"
    }
   ],
   "source": [
    "response.query_result"
   ]
  },
  {
   "cell_type": "code",
   "execution_count": null,
   "metadata": {},
   "outputs": [],
   "source": [
    "bot_text = \"Something\"\n",
    "user_text = \"Something\"\n",
    "while user_text!=\"end\":\n",
    "    user_text = input(\"User: \")\n",
    "    if user_text==\"end\":\n",
    "        break\n",
    "    response = get_response(user_text)\n",
    "    temp_text = response.query_result.fulfillment_text\n",
    "    if len(temp_text)>10 and temp_text[:8] == \"Thank you\":\n",
    "        bot_text,details = extract_details(response.query_result.fulfillment_text)\n",
    "        show_appointment_details(details)\n",
    "    else:\n",
    "        bot_text = response.query_result.fulfillment_text\n",
    "    \n",
    "    print(\"Bot text: \",bot_text)"
   ]
  },
  {
   "cell_type": "code",
   "execution_count": null,
   "metadata": {},
   "outputs": [],
   "source": []
  }
 ],
 "metadata": {
  "interpreter": {
   "hash": "8299bf76fd9b44ecb9c85abf787c2b08d12876bc058fb67ec5a2f6016b3ba2a0"
  },
  "kernelspec": {
   "display_name": "Python 3.8.12 ('apple_tensorflow')",
   "language": "python",
   "name": "python3"
  },
  "language_info": {
   "codemirror_mode": {
    "name": "ipython",
    "version": 3
   },
   "file_extension": ".py",
   "mimetype": "text/x-python",
   "name": "python",
   "nbconvert_exporter": "python",
   "pygments_lexer": "ipython3",
   "version": "3.8.12"
  },
  "orig_nbformat": 4
 },
 "nbformat": 4,
 "nbformat_minor": 2
}
