{
 "cells": [
  {
   "cell_type": "code",
   "execution_count": 1,
   "metadata": {},
   "outputs": [],
   "source": [
    "import os\n",
    "import json\n",
    "from google.cloud import dialogflow\n",
    "from google.api_core.exceptions import InvalidArgument\n",
    "\n",
    "os.environ[\"GOOGLE_APPLICATION_CREDENTIALS\"] = 'private_key.json'\n",
    "\n",
    "DIALOGFLOW_PROJECT_ID = 'receptionist-djjv'\n",
    "DIALOGFLOW_LANGUAGE_CODE = 'en'\n",
    "SESSION_ID = 'me'"
   ]
  },
  {
   "cell_type": "code",
   "execution_count": 3,
   "metadata": {},
   "outputs": [],
   "source": [
    "text_to_be_analyzed = input(\"User: \")"
   ]
  },
  {
   "cell_type": "code",
   "execution_count": 4,
   "metadata": {},
   "outputs": [],
   "source": [
    "session_client = dialogflow.SessionsClient()\n",
    "session = session_client.session_path(DIALOGFLOW_PROJECT_ID, SESSION_ID)\n",
    "text_input = dialogflow.TextInput(text=text_to_be_analyzed, language_code=DIALOGFLOW_LANGUAGE_CODE)\n",
    "query_input = dialogflow.QueryInput(text=text_input)"
   ]
  },
  {
   "cell_type": "code",
   "execution_count": null,
   "metadata": {},
   "outputs": [],
   "source": [
    "try:\n",
    "    response = session_client.detect_intent(session=session, query_input=query_input)\n",
    "except InvalidArgument:\n",
    "    raise"
   ]
  },
  {
   "cell_type": "code",
   "execution_count": 2,
   "metadata": {},
   "outputs": [],
   "source": [
    "from dialogflow import get_response"
   ]
  },
  {
   "cell_type": "code",
   "execution_count": 3,
   "metadata": {},
   "outputs": [],
   "source": [
    "def bot_speak(bot_text):\n",
    "    print(\"Bot text: \",bot_text)"
   ]
  },
  {
   "cell_type": "code",
   "execution_count": 2,
   "metadata": {},
   "outputs": [],
   "source": [
    "import os\n",
    "import os.path\n",
    "import time\n",
    "import datetime\n",
    "from urllib import response\n",
    "# import pyttsx3\n",
    "import speech_recognition as sr\n",
    "import pytz\n",
    "from dialogflow import get_response\n",
    "from utils import extract_details\n",
    "from display_data import show_appointment_details, list_doctors\n",
    "from email_test import send_email"
   ]
  },
  {
   "cell_type": "code",
   "execution_count": 3,
   "metadata": {},
   "outputs": [],
   "source": [
    "temp = \"\""
   ]
  },
  {
   "cell_type": "code",
   "execution_count": 4,
   "metadata": {},
   "outputs": [
    {
     "name": "stdout",
     "output_type": "stream",
     "text": [
      "What speciality of doctor are you looking for?\n",
      "Here's a list of ENT doctors. Please state the name of one of the doctors from the list\n",
      "And, when would you like the appointment to be?\n",
      "Good news, that slot is open. Can I have your name please?\n",
      "And, can I get your email address?\n",
      "Thank you Nihal . Here are the details of the appointment. Is everything alright?|Nihal,nihal.antony@gmail.com,michael scott,2022-03-13T12:00:00-04:00,2022-03-13T12:00:00-04:00,ENT\n",
      "What would you like to change?\n",
      "Sure thing, here are the new details. Is everything alright?|Nihal,nihal.antony@gmail.com,michael scott,2022-03-13T12:00:00-04:00,17:00:00,$AppointmentType\n"
     ]
    },
    {
     "ename": "KeyboardInterrupt",
     "evalue": "Interrupted by user",
     "output_type": "error",
     "traceback": [
      "\u001b[0;31m---------------------------------------------------------------------------\u001b[0m",
      "\u001b[0;31mKeyboardInterrupt\u001b[0m                         Traceback (most recent call last)",
      "\u001b[1;32m/Users/nihal/Desktop/Virtual Assistant/Google Receptionist/test.ipynb Cell 9'\u001b[0m in \u001b[0;36m<module>\u001b[0;34m\u001b[0m\n\u001b[1;32m      <a href='vscode-notebook-cell:/Users/nihal/Desktop/Virtual%20Assistant/Google%20Receptionist/test.ipynb#ch0000023?line=1'>2</a>\u001b[0m user_text \u001b[39m=\u001b[39m \u001b[39m\"\u001b[39m\u001b[39mSomething\u001b[39m\u001b[39m\"\u001b[39m\n\u001b[1;32m      <a href='vscode-notebook-cell:/Users/nihal/Desktop/Virtual%20Assistant/Google%20Receptionist/test.ipynb#ch0000023?line=2'>3</a>\u001b[0m \u001b[39mwhile\u001b[39;00m user_text\u001b[39m!=\u001b[39m\u001b[39m\"\u001b[39m\u001b[39mend\u001b[39m\u001b[39m\"\u001b[39m:\n\u001b[0;32m----> <a href='vscode-notebook-cell:/Users/nihal/Desktop/Virtual%20Assistant/Google%20Receptionist/test.ipynb#ch0000023?line=3'>4</a>\u001b[0m     user_text \u001b[39m=\u001b[39m \u001b[39minput\u001b[39;49m(\u001b[39m\"\u001b[39;49m\u001b[39mUser: \u001b[39;49m\u001b[39m\"\u001b[39;49m) \u001b[39m# Input from the user\u001b[39;00m\n\u001b[1;32m      <a href='vscode-notebook-cell:/Users/nihal/Desktop/Virtual%20Assistant/Google%20Receptionist/test.ipynb#ch0000023?line=4'>5</a>\u001b[0m     \u001b[39mif\u001b[39;00m user_text\u001b[39m==\u001b[39m\u001b[39m\"\u001b[39m\u001b[39mend\u001b[39m\u001b[39m\"\u001b[39m:\n\u001b[1;32m      <a href='vscode-notebook-cell:/Users/nihal/Desktop/Virtual%20Assistant/Google%20Receptionist/test.ipynb#ch0000023?line=5'>6</a>\u001b[0m         \u001b[39mbreak\u001b[39;00m\n",
      "File \u001b[0;32m~/miniforge3/envs/apple_tensorflow/lib/python3.8/site-packages/ipykernel/kernelbase.py:1044\u001b[0m, in \u001b[0;36mKernel.raw_input\u001b[0;34m(self, prompt)\u001b[0m\n\u001b[1;32m   <a href='file:///Users/nihal/miniforge3/envs/apple_tensorflow/lib/python3.8/site-packages/ipykernel/kernelbase.py?line=1039'>1040</a>\u001b[0m \u001b[39mif\u001b[39;00m \u001b[39mnot\u001b[39;00m \u001b[39mself\u001b[39m\u001b[39m.\u001b[39m_allow_stdin:\n\u001b[1;32m   <a href='file:///Users/nihal/miniforge3/envs/apple_tensorflow/lib/python3.8/site-packages/ipykernel/kernelbase.py?line=1040'>1041</a>\u001b[0m     \u001b[39mraise\u001b[39;00m StdinNotImplementedError(\n\u001b[1;32m   <a href='file:///Users/nihal/miniforge3/envs/apple_tensorflow/lib/python3.8/site-packages/ipykernel/kernelbase.py?line=1041'>1042</a>\u001b[0m         \u001b[39m\"\u001b[39m\u001b[39mraw_input was called, but this frontend does not support input requests.\u001b[39m\u001b[39m\"\u001b[39m\n\u001b[1;32m   <a href='file:///Users/nihal/miniforge3/envs/apple_tensorflow/lib/python3.8/site-packages/ipykernel/kernelbase.py?line=1042'>1043</a>\u001b[0m     )\n\u001b[0;32m-> <a href='file:///Users/nihal/miniforge3/envs/apple_tensorflow/lib/python3.8/site-packages/ipykernel/kernelbase.py?line=1043'>1044</a>\u001b[0m \u001b[39mreturn\u001b[39;00m \u001b[39mself\u001b[39;49m\u001b[39m.\u001b[39;49m_input_request(\n\u001b[1;32m   <a href='file:///Users/nihal/miniforge3/envs/apple_tensorflow/lib/python3.8/site-packages/ipykernel/kernelbase.py?line=1044'>1045</a>\u001b[0m     \u001b[39mstr\u001b[39;49m(prompt),\n\u001b[1;32m   <a href='file:///Users/nihal/miniforge3/envs/apple_tensorflow/lib/python3.8/site-packages/ipykernel/kernelbase.py?line=1045'>1046</a>\u001b[0m     \u001b[39mself\u001b[39;49m\u001b[39m.\u001b[39;49m_parent_ident[\u001b[39m\"\u001b[39;49m\u001b[39mshell\u001b[39;49m\u001b[39m\"\u001b[39;49m],\n\u001b[1;32m   <a href='file:///Users/nihal/miniforge3/envs/apple_tensorflow/lib/python3.8/site-packages/ipykernel/kernelbase.py?line=1046'>1047</a>\u001b[0m     \u001b[39mself\u001b[39;49m\u001b[39m.\u001b[39;49mget_parent(\u001b[39m\"\u001b[39;49m\u001b[39mshell\u001b[39;49m\u001b[39m\"\u001b[39;49m),\n\u001b[1;32m   <a href='file:///Users/nihal/miniforge3/envs/apple_tensorflow/lib/python3.8/site-packages/ipykernel/kernelbase.py?line=1047'>1048</a>\u001b[0m     password\u001b[39m=\u001b[39;49m\u001b[39mFalse\u001b[39;49;00m,\n\u001b[1;32m   <a href='file:///Users/nihal/miniforge3/envs/apple_tensorflow/lib/python3.8/site-packages/ipykernel/kernelbase.py?line=1048'>1049</a>\u001b[0m )\n",
      "File \u001b[0;32m~/miniforge3/envs/apple_tensorflow/lib/python3.8/site-packages/ipykernel/kernelbase.py:1089\u001b[0m, in \u001b[0;36mKernel._input_request\u001b[0;34m(self, prompt, ident, parent, password)\u001b[0m\n\u001b[1;32m   <a href='file:///Users/nihal/miniforge3/envs/apple_tensorflow/lib/python3.8/site-packages/ipykernel/kernelbase.py?line=1085'>1086</a>\u001b[0m             \u001b[39mbreak\u001b[39;00m\n\u001b[1;32m   <a href='file:///Users/nihal/miniforge3/envs/apple_tensorflow/lib/python3.8/site-packages/ipykernel/kernelbase.py?line=1086'>1087</a>\u001b[0m \u001b[39mexcept\u001b[39;00m \u001b[39mKeyboardInterrupt\u001b[39;00m:\n\u001b[1;32m   <a href='file:///Users/nihal/miniforge3/envs/apple_tensorflow/lib/python3.8/site-packages/ipykernel/kernelbase.py?line=1087'>1088</a>\u001b[0m     \u001b[39m# re-raise KeyboardInterrupt, to truncate traceback\u001b[39;00m\n\u001b[0;32m-> <a href='file:///Users/nihal/miniforge3/envs/apple_tensorflow/lib/python3.8/site-packages/ipykernel/kernelbase.py?line=1088'>1089</a>\u001b[0m     \u001b[39mraise\u001b[39;00m \u001b[39mKeyboardInterrupt\u001b[39;00m(\u001b[39m\"\u001b[39m\u001b[39mInterrupted by user\u001b[39m\u001b[39m\"\u001b[39m) \u001b[39mfrom\u001b[39;00m \u001b[39mNone\u001b[39m\n\u001b[1;32m   <a href='file:///Users/nihal/miniforge3/envs/apple_tensorflow/lib/python3.8/site-packages/ipykernel/kernelbase.py?line=1089'>1090</a>\u001b[0m \u001b[39mexcept\u001b[39;00m \u001b[39mException\u001b[39;00m:\n\u001b[1;32m   <a href='file:///Users/nihal/miniforge3/envs/apple_tensorflow/lib/python3.8/site-packages/ipykernel/kernelbase.py?line=1090'>1091</a>\u001b[0m     \u001b[39mself\u001b[39m\u001b[39m.\u001b[39mlog\u001b[39m.\u001b[39mwarning(\u001b[39m\"\u001b[39m\u001b[39mInvalid Message:\u001b[39m\u001b[39m\"\u001b[39m, exc_info\u001b[39m=\u001b[39m\u001b[39mTrue\u001b[39;00m)\n",
      "\u001b[0;31mKeyboardInterrupt\u001b[0m: Interrupted by user"
     ]
    }
   ],
   "source": [
    "bot_text = \"Something\"\n",
    "user_text = \"Something\"\n",
    "while user_text!=\"end\":\n",
    "    user_text = input(\"User: \") # Input from the user\n",
    "    if user_text==\"end\":\n",
    "        break\n",
    "    response = get_response(user_text)\n",
    "    temp_text = response.query_result.fulfillment_text\n",
    "    temp = response.query_result.fulfillment_text\n",
    "    print(temp)"
   ]
  },
  {
   "cell_type": "code",
   "execution_count": null,
   "metadata": {},
   "outputs": [],
   "source": []
  },
  {
   "cell_type": "code",
   "execution_count": 6,
   "metadata": {},
   "outputs": [],
   "source": [
    "from utils import DETAILS"
   ]
  },
  {
   "cell_type": "code",
   "execution_count": 7,
   "metadata": {},
   "outputs": [
    {
     "data": {
      "text/plain": [
       "{'name': ' Nihal',\n",
       " 'email': ' .antony@gmail.com',\n",
       " 'doctor': ' Steven philip',\n",
       " 'date': ' 2022-03-13T12:00:00-04:00',\n",
       " 'time': ' 16:30:00',\n",
       " 'appointment': ' $AppointmentType'}"
      ]
     },
     "execution_count": 7,
     "metadata": {},
     "output_type": "execute_result"
    }
   ],
   "source": [
    "DETAILS"
   ]
  },
  {
   "cell_type": "code",
   "execution_count": 61,
   "metadata": {},
   "outputs": [],
   "source": [
    "temp = DETAILS['time']"
   ]
  },
  {
   "cell_type": "code",
   "execution_count": 62,
   "metadata": {},
   "outputs": [
    {
     "data": {
      "text/plain": [
       "' 2022-03-13T04:30:00-04:00'"
      ]
     },
     "execution_count": 62,
     "metadata": {},
     "output_type": "execute_result"
    }
   ],
   "source": [
    "temp"
   ]
  },
  {
   "cell_type": "code",
   "execution_count": 63,
   "metadata": {},
   "outputs": [],
   "source": [
    "temp = temp.split('T')\n",
    "date = temp[0]\n",
    "ti=  temp[1]"
   ]
  },
  {
   "cell_type": "code",
   "execution_count": 64,
   "metadata": {},
   "outputs": [
    {
     "data": {
      "text/plain": [
       "' 2022-03-13'"
      ]
     },
     "execution_count": 64,
     "metadata": {},
     "output_type": "execute_result"
    }
   ],
   "source": [
    "date"
   ]
  },
  {
   "cell_type": "code",
   "execution_count": 65,
   "metadata": {},
   "outputs": [],
   "source": [
    "ti = ti.split('-')[0]"
   ]
  },
  {
   "cell_type": "code",
   "execution_count": 66,
   "metadata": {},
   "outputs": [
    {
     "data": {
      "text/plain": [
       "'04:30:00'"
      ]
     },
     "execution_count": 66,
     "metadata": {},
     "output_type": "execute_result"
    }
   ],
   "source": [
    "ti"
   ]
  },
  {
   "cell_type": "code",
   "execution_count": 67,
   "metadata": {},
   "outputs": [],
   "source": [
    "dt = date+\" \"+ti.strip()"
   ]
  },
  {
   "cell_type": "code",
   "execution_count": 71,
   "metadata": {},
   "outputs": [],
   "source": [
    "from datetime import datetime\n",
    "\n",
    "datetime_object = datetime.strptime(dt, '%Y-%m-%d %H:%M:%S')"
   ]
  },
  {
   "cell_type": "code",
   "execution_count": 72,
   "metadata": {},
   "outputs": [
    {
     "data": {
      "text/plain": [
       "datetime.datetime(2022, 3, 13, 4, 30)"
      ]
     },
     "execution_count": 72,
     "metadata": {},
     "output_type": "execute_result"
    }
   ],
   "source": [
    "datetime_object"
   ]
  },
  {
   "cell_type": "code",
   "execution_count": 74,
   "metadata": {},
   "outputs": [
    {
     "data": {
      "text/plain": [
       "' ENT'"
      ]
     },
     "execution_count": 74,
     "metadata": {},
     "output_type": "execute_result"
    }
   ],
   "source": [
    "DETAILS['appointment']"
   ]
  },
  {
   "cell_type": "code",
   "execution_count": null,
   "metadata": {},
   "outputs": [],
   "source": []
  }
 ],
 "metadata": {
  "interpreter": {
   "hash": "8299bf76fd9b44ecb9c85abf787c2b08d12876bc058fb67ec5a2f6016b3ba2a0"
  },
  "kernelspec": {
   "display_name": "Python 3.8.12 ('apple_tensorflow')",
   "language": "python",
   "name": "python3"
  },
  "language_info": {
   "codemirror_mode": {
    "name": "ipython",
    "version": 3
   },
   "file_extension": ".py",
   "mimetype": "text/x-python",
   "name": "python",
   "nbconvert_exporter": "python",
   "pygments_lexer": "ipython3",
   "version": "3.8.12"
  },
  "orig_nbformat": 4
 },
 "nbformat": 4,
 "nbformat_minor": 2
}
