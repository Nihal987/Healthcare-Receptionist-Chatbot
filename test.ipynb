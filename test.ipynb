{
 "cells": [
  {
   "cell_type": "code",
   "execution_count": 1,
   "metadata": {},
   "outputs": [],
   "source": [
    "import os\n",
    "import json\n",
    "from google.cloud import dialogflow\n",
    "from google.api_core.exceptions import InvalidArgument\n",
    "\n",
    "os.environ[\"GOOGLE_APPLICATION_CREDENTIALS\"] = 'private_key.json'\n",
    "\n",
    "DIALOGFLOW_PROJECT_ID = 'receptionist-djjv'\n",
    "DIALOGFLOW_LANGUAGE_CODE = 'en'\n",
    "SESSION_ID = 'me'"
   ]
  },
  {
   "cell_type": "code",
   "execution_count": 3,
   "metadata": {},
   "outputs": [],
   "source": [
    "text_to_be_analyzed = input(\"User: \")"
   ]
  },
  {
   "cell_type": "code",
   "execution_count": 4,
   "metadata": {},
   "outputs": [],
   "source": [
    "session_client = dialogflow.SessionsClient()\n",
    "session = session_client.session_path(DIALOGFLOW_PROJECT_ID, SESSION_ID)\n",
    "text_input = dialogflow.TextInput(text=text_to_be_analyzed, language_code=DIALOGFLOW_LANGUAGE_CODE)\n",
    "query_input = dialogflow.QueryInput(text=text_input)"
   ]
  },
  {
   "cell_type": "code",
   "execution_count": null,
   "metadata": {},
   "outputs": [],
   "source": [
    "try:\n",
    "    response = session_client.detect_intent(session=session, query_input=query_input)\n",
    "except InvalidArgument:\n",
    "    raise"
   ]
  },
  {
   "cell_type": "code",
   "execution_count": 2,
   "metadata": {},
   "outputs": [],
   "source": [
    "from dialogflow import get_response"
   ]
  },
  {
   "cell_type": "code",
   "execution_count": 3,
   "metadata": {},
   "outputs": [],
   "source": [
    "def bot_speak(bot_text):\n",
    "    print(\"Bot text: \",bot_text)"
   ]
  },
  {
   "cell_type": "code",
   "execution_count": 4,
   "metadata": {},
   "outputs": [],
   "source": [
    "import os\n",
    "import os.path\n",
    "import time\n",
    "import datetime\n",
    "from urllib import response\n",
    "# import pyttsx3\n",
    "import speech_recognition as sr\n",
    "import pytz\n",
    "from dialogflow import get_response\n",
    "from utils import extract_details\n",
    "from display_data import show_appointment_details, list_doctors\n",
    "from email_test import send_email"
   ]
  },
  {
   "cell_type": "code",
   "execution_count": 5,
   "metadata": {},
   "outputs": [
    {
     "name": "stdout",
     "output_type": "stream",
     "text": [
      "Bot text:  Hello, is there something I can help you with?\n",
      "Bot text:  What speciality of doctor are you looking for?\n",
      "Bot text:  Here's all the ENT  doctors in Ottawa. Please state the name of one of the doctors from the list\n",
      "\n",
      "\n",
      "             Name Specialization                                Branch  \\\n",
      "54     Chris Paul            ENT  The Ottawa Hospital Riverside Campus   \n",
      "55  Steven Philip            ENT    The Ottawa Hospital General Campus   \n",
      "56  Michael Scott            ENT      The Ottawa Hospital Civic Campus   \n",
      "57    Jordan Kent            ENT                     Montfort Hospital   \n",
      "58     Chris Paul            ENT                     St Johns Hospital   \n",
      "\n",
      "       Weekly Schedule       Timing  \n",
      "54    Monday to Friday   9AM to 9PM  \n",
      "55  Saturday to Monday  10AM to 5PM  \n",
      "56    Monday to Friday  8AM to 11PM  \n",
      "57    Monday to Friday   9AM to 9PM  \n",
      "58  Saturday to Monday  8AM to 11PM  \n",
      "\n",
      "\n",
      "Bot text:  And, when would you like the appointment to be?\n",
      "Bot text:  Alright that slot is available, can you give me your name?\n",
      "Bot text:  And, can I get your email address?\n",
      "Bot text:  Thank you Nihal . Here's the appointment details. Is everything correct?\n",
      "\n",
      "APPOINTMENT DETAILS\n",
      "PATIENT NAME:  Nihal\n",
      "EMAIL ADDRESS:  .antony@gmail.com\n",
      "SPECIALIST TYPE:  ENT\n",
      "DOCTOR:  Steven philip\n",
      "DATE: 13 March  2022\n",
      "TIME: 12:00\n",
      "\n",
      "Bot text:  Sorry, can you say that again?\n",
      "Bot text:  What would you like to change?\n",
      "Bot text:  Sure thing, here is your new appointment details. Do you confirm that everything is correct?\n",
      "\n",
      "APPOINTMENT DETAILS\n",
      "PATIENT NAME:  Nihal\n",
      "EMAIL ADDRESS:  .antony@gmail.com\n",
      "SPECIALIST TYPE:  $AppointmentType\n",
      "DOCTOR:  Steven philip\n",
      "DATE: 13 March  2022\n"
     ]
    },
    {
     "ename": "IndexError",
     "evalue": "list index out of range",
     "output_type": "error",
     "traceback": [
      "\u001b[0;31m---------------------------------------------------------------------------\u001b[0m",
      "\u001b[0;31mIndexError\u001b[0m                                Traceback (most recent call last)",
      "\u001b[1;32m/Users/nihal/Desktop/Virtual Assistant/Google Receptionist/test.ipynb Cell 8'\u001b[0m in \u001b[0;36m<module>\u001b[0;34m\u001b[0m\n\u001b[1;32m     <a href='vscode-notebook-cell:/Users/nihal/Desktop/Virtual%20Assistant/Google%20Receptionist/test.ipynb#ch0000007?line=29'>30</a>\u001b[0m             bot_speak(response\u001b[39m.\u001b[39mquery_result\u001b[39m.\u001b[39mfulfillment_text)\n\u001b[1;32m     <a href='vscode-notebook-cell:/Users/nihal/Desktop/Virtual%20Assistant/Google%20Receptionist/test.ipynb#ch0000007?line=31'>32</a>\u001b[0m \u001b[39mif\u001b[39;00m \u001b[39m__name__\u001b[39m \u001b[39m==\u001b[39m \u001b[39m\"\u001b[39m\u001b[39m__main__\u001b[39m\u001b[39m\"\u001b[39m:\n\u001b[0;32m---> <a href='vscode-notebook-cell:/Users/nihal/Desktop/Virtual%20Assistant/Google%20Receptionist/test.ipynb#ch0000007?line=32'>33</a>\u001b[0m     main()\n",
      "\u001b[1;32m/Users/nihal/Desktop/Virtual Assistant/Google Receptionist/test.ipynb Cell 8'\u001b[0m in \u001b[0;36mmain\u001b[0;34m()\u001b[0m\n\u001b[1;32m     <a href='vscode-notebook-cell:/Users/nihal/Desktop/Virtual%20Assistant/Google%20Receptionist/test.ipynb#ch0000007?line=17'>18</a>\u001b[0m     bot_text,details \u001b[39m=\u001b[39m extract_details(response\u001b[39m.\u001b[39mquery_result\u001b[39m.\u001b[39mfulfillment_text)\n\u001b[1;32m     <a href='vscode-notebook-cell:/Users/nihal/Desktop/Virtual%20Assistant/Google%20Receptionist/test.ipynb#ch0000007?line=18'>19</a>\u001b[0m     bot_speak(bot_text)\n\u001b[0;32m---> <a href='vscode-notebook-cell:/Users/nihal/Desktop/Virtual%20Assistant/Google%20Receptionist/test.ipynb#ch0000007?line=19'>20</a>\u001b[0m     show_appointment_details(details)\n\u001b[1;32m     <a href='vscode-notebook-cell:/Users/nihal/Desktop/Virtual%20Assistant/Google%20Receptionist/test.ipynb#ch0000007?line=20'>21</a>\u001b[0m \u001b[39melif\u001b[39;00m response\u001b[39m.\u001b[39mquery_result\u001b[39m.\u001b[39mintent\u001b[39m.\u001b[39mdisplay_name \u001b[39m==\u001b[39m \u001b[39m'\u001b[39m\u001b[39mappointment.book.list\u001b[39m\u001b[39m'\u001b[39m:\n\u001b[1;32m     <a href='vscode-notebook-cell:/Users/nihal/Desktop/Virtual%20Assistant/Google%20Receptionist/test.ipynb#ch0000007?line=21'>22</a>\u001b[0m     bot_speak(response\u001b[39m.\u001b[39mquery_result\u001b[39m.\u001b[39mfulfillment_text)\n",
      "File \u001b[0;32m~/Desktop/Virtual Assistant/Google Receptionist/display_data.py:30\u001b[0m, in \u001b[0;36mshow_appointment_details\u001b[0;34m(details)\u001b[0m\n\u001b[1;32m     <a href='file:///Users/nihal/Desktop/Virtual%20Assistant/Google%20Receptionist/display_data.py?line=27'>28</a>\u001b[0m \u001b[39mprint\u001b[39m(\u001b[39mf\u001b[39m\u001b[39m\"\u001b[39m\u001b[39mDOCTOR: \u001b[39m\u001b[39m{\u001b[39;00mdetails[\u001b[39m'\u001b[39m\u001b[39mdoctor\u001b[39m\u001b[39m'\u001b[39m]\u001b[39m}\u001b[39;00m\u001b[39m\"\u001b[39m)\n\u001b[1;32m     <a href='file:///Users/nihal/Desktop/Virtual%20Assistant/Google%20Receptionist/display_data.py?line=28'>29</a>\u001b[0m \u001b[39mprint\u001b[39m(\u001b[39mf\u001b[39m\u001b[39m\"\u001b[39m\u001b[39mDATE: \u001b[39m\u001b[39m{\u001b[39;00mget_date(details[\u001b[39m'\u001b[39m\u001b[39mdate\u001b[39m\u001b[39m'\u001b[39m])\u001b[39m}\u001b[39;00m\u001b[39m\"\u001b[39m)\n\u001b[0;32m---> <a href='file:///Users/nihal/Desktop/Virtual%20Assistant/Google%20Receptionist/display_data.py?line=29'>30</a>\u001b[0m \u001b[39mprint\u001b[39m(\u001b[39mf\u001b[39m\u001b[39m\"\u001b[39m\u001b[39mTIME: \u001b[39m\u001b[39m{\u001b[39;00mget_time(details[\u001b[39m'\u001b[39m\u001b[39mtime\u001b[39m\u001b[39m'\u001b[39m])\u001b[39m}\u001b[39;00m\u001b[39m\\n\u001b[39;00m\u001b[39m\"\u001b[39m)\n",
      "File \u001b[0;32m~/Desktop/Virtual Assistant/Google Receptionist/display_data.py:17\u001b[0m, in \u001b[0;36mget_time\u001b[0;34m(time_text)\u001b[0m\n\u001b[1;32m     <a href='file:///Users/nihal/Desktop/Virtual%20Assistant/Google%20Receptionist/display_data.py?line=13'>14</a>\u001b[0m \u001b[39mdef\u001b[39;00m \u001b[39mget_time\u001b[39m(time_text):\n\u001b[1;32m     <a href='file:///Users/nihal/Desktop/Virtual%20Assistant/Google%20Receptionist/display_data.py?line=14'>15</a>\u001b[0m     \u001b[39m# Extracting the time data\u001b[39;00m\n\u001b[1;32m     <a href='file:///Users/nihal/Desktop/Virtual%20Assistant/Google%20Receptionist/display_data.py?line=15'>16</a>\u001b[0m     time \u001b[39m=\u001b[39m time_text\n\u001b[0;32m---> <a href='file:///Users/nihal/Desktop/Virtual%20Assistant/Google%20Receptionist/display_data.py?line=16'>17</a>\u001b[0m     time \u001b[39m=\u001b[39m time\u001b[39m.\u001b[39;49msplit(\u001b[39m'\u001b[39;49m\u001b[39mT\u001b[39;49m\u001b[39m'\u001b[39;49m)[\u001b[39m1\u001b[39;49m]\n\u001b[1;32m     <a href='file:///Users/nihal/Desktop/Virtual%20Assistant/Google%20Receptionist/display_data.py?line=17'>18</a>\u001b[0m     time \u001b[39m=\u001b[39m time\u001b[39m.\u001b[39msplit(\u001b[39m'\u001b[39m\u001b[39m-\u001b[39m\u001b[39m'\u001b[39m)[\u001b[39m0\u001b[39m]\n\u001b[1;32m     <a href='file:///Users/nihal/Desktop/Virtual%20Assistant/Google%20Receptionist/display_data.py?line=18'>19</a>\u001b[0m     \u001b[39mreturn\u001b[39;00m time[:\u001b[39m-\u001b[39m\u001b[39m3\u001b[39m]\n",
      "\u001b[0;31mIndexError\u001b[0m: list index out of range"
     ]
    }
   ],
   "source": [
    "def main():\n",
    "\n",
    "    bot_text = \"Something\"\n",
    "    user_text = \"Something\"\n",
    "    while user_text!=\"end\":\n",
    "        user_text = input(\"User: \") # Input from the user\n",
    "        if user_text==\"end\":\n",
    "            break\n",
    "        response = get_response(user_text)\n",
    "        temp_text = response.query_result.fulfillment_text\n",
    "        if len(temp_text)>10 and (temp_text[:9] == \"Thank you\" or temp_text[:10]==\"Sure thing\"):\n",
    "            \"\"\"\n",
    "            Here I am using the first two words of the response to detect the intent,\n",
    "            I am not using response.query_result.intent.display_name as this intent has slots.\n",
    "            Because it has slots the intent keeps looping until all the slots are filled. I use\n",
    "            the first tow words of the response to tell when the loop is done, all the slots are filled.\n",
    "            \"\"\" \n",
    "            bot_text,details = extract_details(response.query_result.fulfillment_text)\n",
    "            bot_speak(bot_text)\n",
    "            show_appointment_details(details)\n",
    "        elif response.query_result.intent.display_name == 'appointment.book.list':\n",
    "            bot_speak(response.query_result.fulfillment_text)\n",
    "            list_doctors(str(response.query_result))\n",
    "        elif response.query_result.intent.display_name == 'appointment.confirm.yes':\n",
    "            send_email()\n",
    "            bot_speak(response.query_result.fulfillment_text)\n",
    "        # elif response.query_result.intent.display_name == 'appointment.calendar.yes':\n",
    "        #     pass\n",
    "        else:\n",
    "            bot_speak(response.query_result.fulfillment_text)\n",
    "\n",
    "if __name__ == \"__main__\":\n",
    "    main()"
   ]
  },
  {
   "cell_type": "code",
   "execution_count": 6,
   "metadata": {},
   "outputs": [],
   "source": [
    "from utils import DETAILS"
   ]
  },
  {
   "cell_type": "code",
   "execution_count": 7,
   "metadata": {},
   "outputs": [
    {
     "data": {
      "text/plain": [
       "{'name': ' Nihal',\n",
       " 'email': ' .antony@gmail.com',\n",
       " 'doctor': ' Steven philip',\n",
       " 'date': ' 2022-03-13T12:00:00-04:00',\n",
       " 'time': ' 16:30:00',\n",
       " 'appointment': ' $AppointmentType'}"
      ]
     },
     "execution_count": 7,
     "metadata": {},
     "output_type": "execute_result"
    }
   ],
   "source": [
    "DETAILS"
   ]
  },
  {
   "cell_type": "code",
   "execution_count": 61,
   "metadata": {},
   "outputs": [],
   "source": [
    "temp = DETAILS['time']"
   ]
  },
  {
   "cell_type": "code",
   "execution_count": 62,
   "metadata": {},
   "outputs": [
    {
     "data": {
      "text/plain": [
       "' 2022-03-13T04:30:00-04:00'"
      ]
     },
     "execution_count": 62,
     "metadata": {},
     "output_type": "execute_result"
    }
   ],
   "source": [
    "temp"
   ]
  },
  {
   "cell_type": "code",
   "execution_count": 63,
   "metadata": {},
   "outputs": [],
   "source": [
    "temp = temp.split('T')\n",
    "date = temp[0]\n",
    "ti=  temp[1]"
   ]
  },
  {
   "cell_type": "code",
   "execution_count": 64,
   "metadata": {},
   "outputs": [
    {
     "data": {
      "text/plain": [
       "' 2022-03-13'"
      ]
     },
     "execution_count": 64,
     "metadata": {},
     "output_type": "execute_result"
    }
   ],
   "source": [
    "date"
   ]
  },
  {
   "cell_type": "code",
   "execution_count": 65,
   "metadata": {},
   "outputs": [],
   "source": [
    "ti = ti.split('-')[0]"
   ]
  },
  {
   "cell_type": "code",
   "execution_count": 66,
   "metadata": {},
   "outputs": [
    {
     "data": {
      "text/plain": [
       "'04:30:00'"
      ]
     },
     "execution_count": 66,
     "metadata": {},
     "output_type": "execute_result"
    }
   ],
   "source": [
    "ti"
   ]
  },
  {
   "cell_type": "code",
   "execution_count": 67,
   "metadata": {},
   "outputs": [],
   "source": [
    "dt = date+\" \"+ti.strip()"
   ]
  },
  {
   "cell_type": "code",
   "execution_count": 71,
   "metadata": {},
   "outputs": [],
   "source": [
    "from datetime import datetime\n",
    "\n",
    "datetime_object = datetime.strptime(dt, '%Y-%m-%d %H:%M:%S')"
   ]
  },
  {
   "cell_type": "code",
   "execution_count": 72,
   "metadata": {},
   "outputs": [
    {
     "data": {
      "text/plain": [
       "datetime.datetime(2022, 3, 13, 4, 30)"
      ]
     },
     "execution_count": 72,
     "metadata": {},
     "output_type": "execute_result"
    }
   ],
   "source": [
    "datetime_object"
   ]
  },
  {
   "cell_type": "code",
   "execution_count": 74,
   "metadata": {},
   "outputs": [
    {
     "data": {
      "text/plain": [
       "' ENT'"
      ]
     },
     "execution_count": 74,
     "metadata": {},
     "output_type": "execute_result"
    }
   ],
   "source": [
    "DETAILS['appointment']"
   ]
  },
  {
   "cell_type": "code",
   "execution_count": null,
   "metadata": {},
   "outputs": [],
   "source": []
  }
 ],
 "metadata": {
  "interpreter": {
   "hash": "8299bf76fd9b44ecb9c85abf787c2b08d12876bc058fb67ec5a2f6016b3ba2a0"
  },
  "kernelspec": {
   "display_name": "Python 3.8.12 ('apple_tensorflow')",
   "language": "python",
   "name": "python3"
  },
  "language_info": {
   "codemirror_mode": {
    "name": "ipython",
    "version": 3
   },
   "file_extension": ".py",
   "mimetype": "text/x-python",
   "name": "python",
   "nbconvert_exporter": "python",
   "pygments_lexer": "ipython3",
   "version": "3.8.12"
  },
  "orig_nbformat": 4
 },
 "nbformat": 4,
 "nbformat_minor": 2
}
