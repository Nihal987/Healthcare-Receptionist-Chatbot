{
 "cells": [
  {
   "cell_type": "code",
   "execution_count": 47,
   "metadata": {},
   "outputs": [],
   "source": [
    "import os\n",
    "import json\n",
    "from google.cloud import dialogflow\n",
    "from google.api_core.exceptions import InvalidArgument\n",
    "\n",
    "os.environ[\"GOOGLE_APPLICATION_CREDENTIALS\"] = 'private_key.json'\n",
    "\n",
    "DIALOGFLOW_PROJECT_ID = 'receptionist-djjv'\n",
    "DIALOGFLOW_LANGUAGE_CODE = 'en'\n",
    "SESSION_ID = 'me'"
   ]
  },
  {
   "cell_type": "code",
   "execution_count": 68,
   "metadata": {},
   "outputs": [],
   "source": [
    "text_to_be_analyzed = input(\"User: \")"
   ]
  },
  {
   "cell_type": "code",
   "execution_count": 69,
   "metadata": {},
   "outputs": [],
   "source": [
    "session_client = dialogflow.SessionsClient()\n",
    "session = session_client.session_path(DIALOGFLOW_PROJECT_ID, SESSION_ID)\n",
    "text_input = dialogflow.TextInput(text=text_to_be_analyzed, language_code=DIALOGFLOW_LANGUAGE_CODE)\n",
    "query_input = dialogflow.QueryInput(text=text_input)"
   ]
  },
  {
   "cell_type": "code",
   "execution_count": 70,
   "metadata": {},
   "outputs": [],
   "source": [
    "try:\n",
    "    response = session_client.detect_intent(session=session, query_input=query_input)\n",
    "except InvalidArgument:\n",
    "    raise"
   ]
  },
  {
   "cell_type": "code",
   "execution_count": 71,
   "metadata": {},
   "outputs": [
    {
     "data": {
      "text/plain": [
       "'Alright Nihal, here is your appointment details. Do you confirm that everything is correct?| Nihal, nihal.antony@gmail.com, Paul, 2022-03-10T12:00:00-05:00, 2022-03-09T16:40:00-05:00, Radiologist'"
      ]
     },
     "execution_count": 71,
     "metadata": {},
     "output_type": "execute_result"
    }
   ],
   "source": [
    "response.query_result.fulfillment_text"
   ]
  },
  {
   "cell_type": "code",
   "execution_count": 73,
   "metadata": {},
   "outputs": [
    {
     "data": {
      "text/plain": [
       "'appointment.book.details'"
      ]
     },
     "execution_count": 73,
     "metadata": {},
     "output_type": "execute_result"
    }
   ],
   "source": [
    "response.query_result.intent.display_name"
   ]
  },
  {
   "cell_type": "code",
   "execution_count": 74,
   "metadata": {},
   "outputs": [],
   "source": [
    "response_text = response.query_result.fulfillment_text"
   ]
  },
  {
   "cell_type": "code",
   "execution_count": 1,
   "metadata": {},
   "outputs": [],
   "source": [
    "from dialogflow import get_response"
   ]
  },
  {
   "cell_type": "code",
   "execution_count": null,
   "metadata": {},
   "outputs": [],
   "source": [
    "bot_text = \"Something\"\n",
    "user_text = \"Something\"\n",
    "while user_text!=\"end\":\n",
    "    user_text = input(\"User: \")\n",
    "    if user_text==\"end\":\n",
    "        break\n",
    "    response = get_response(user_text)\n",
    "    temp_text = response.query_result.fulfillment_text\n",
    "    if len(temp_text)>10 and temp_text[:8] == \"Thank you\":\n",
    "        bot_text,details = extract_details(response.query_result.fulfillment_text)\n",
    "        show_appointment_details(details)\n",
    "    else:\n",
    "        bot_text = response.query_result.fulfillment_text\n",
    "    \n",
    "    print(\"Bot text: \",bot_text)"
   ]
  },
  {
   "cell_type": "code",
   "execution_count": 7,
   "metadata": {},
   "outputs": [],
   "source": [
    "import pandas as pd\n",
    "\n",
    "df = pd.read_excel('doclist.xlsx')"
   ]
  },
  {
   "cell_type": "code",
   "execution_count": 14,
   "metadata": {},
   "outputs": [
    {
     "data": {
      "text/html": [
       "<div>\n",
       "<style scoped>\n",
       "    .dataframe tbody tr th:only-of-type {\n",
       "        vertical-align: middle;\n",
       "    }\n",
       "\n",
       "    .dataframe tbody tr th {\n",
       "        vertical-align: top;\n",
       "    }\n",
       "\n",
       "    .dataframe thead th {\n",
       "        text-align: right;\n",
       "    }\n",
       "</style>\n",
       "<table border=\"1\" class=\"dataframe\">\n",
       "  <thead>\n",
       "    <tr style=\"text-align: right;\">\n",
       "      <th></th>\n",
       "      <th>Name</th>\n",
       "      <th>Specialization</th>\n",
       "      <th>Address</th>\n",
       "      <th>City</th>\n",
       "      <th>Phone number</th>\n",
       "      <th>Time</th>\n",
       "      <th>Rating</th>\n",
       "    </tr>\n",
       "  </thead>\n",
       "  <tbody>\n",
       "    <tr>\n",
       "      <th>330</th>\n",
       "      <td>Dr S R Ramangoudar</td>\n",
       "      <td>Cardiologist</td>\n",
       "      <td>Malapur Road ,Maratha colony</td>\n",
       "      <td>Dharwad</td>\n",
       "      <td>8.976459e+09</td>\n",
       "      <td>10:00 am- 5:00 pm</td>\n",
       "      <td>4.1</td>\n",
       "    </tr>\n",
       "    <tr>\n",
       "      <th>331</th>\n",
       "      <td>Sdm Narayan Hrudayalaya</td>\n",
       "      <td>Cardiologist</td>\n",
       "      <td>Manjushree Nagar Sattur</td>\n",
       "      <td>Dharwad</td>\n",
       "      <td>7.668457e+09</td>\n",
       "      <td>10:00 am- 5:00 pm</td>\n",
       "      <td>3.9</td>\n",
       "    </tr>\n",
       "    <tr>\n",
       "      <th>332</th>\n",
       "      <td>Dr Suresh Patted</td>\n",
       "      <td>Cardiologist</td>\n",
       "      <td>Dharwad College Road</td>\n",
       "      <td>Dharwad</td>\n",
       "      <td>7.385321e+09</td>\n",
       "      <td>10:00 am- 5:00 pm</td>\n",
       "      <td>5.0</td>\n",
       "    </tr>\n",
       "    <tr>\n",
       "      <th>333</th>\n",
       "      <td>Dr Shakapur Chaudappa</td>\n",
       "      <td>Cardiologist</td>\n",
       "      <td>Sdm Narayan Heart Center Sattur</td>\n",
       "      <td>Dharwad</td>\n",
       "      <td>9.975425e+09</td>\n",
       "      <td>10:00 am- 5:00 pm</td>\n",
       "      <td>3.5</td>\n",
       "    </tr>\n",
       "    <tr>\n",
       "      <th>334</th>\n",
       "      <td>Dr Maheshwar D Honalli</td>\n",
       "      <td>Cardiologist</td>\n",
       "      <td>Sdm Narayan Heart Center Sattur</td>\n",
       "      <td>Dharwad</td>\n",
       "      <td>7.745398e+09</td>\n",
       "      <td>10:00 am- 5:00 pm</td>\n",
       "      <td>5.0</td>\n",
       "    </tr>\n",
       "  </tbody>\n",
       "</table>\n",
       "</div>"
      ],
      "text/plain": [
       "                        Name Specialization                          Address  \\\n",
       "330       Dr S R Ramangoudar   Cardiologist     Malapur Road ,Maratha colony   \n",
       "331  Sdm Narayan Hrudayalaya   Cardiologist          Manjushree Nagar Sattur   \n",
       "332         Dr Suresh Patted   Cardiologist             Dharwad College Road   \n",
       "333    Dr Shakapur Chaudappa   Cardiologist  Sdm Narayan Heart Center Sattur   \n",
       "334   Dr Maheshwar D Honalli   Cardiologist  Sdm Narayan Heart Center Sattur   \n",
       "\n",
       "        City  Phone number               Time  Rating  \n",
       "330  Dharwad  8.976459e+09  10:00 am- 5:00 pm     4.1  \n",
       "331  Dharwad  7.668457e+09  10:00 am- 5:00 pm     3.9  \n",
       "332  Dharwad  7.385321e+09  10:00 am- 5:00 pm     5.0  \n",
       "333  Dharwad  9.975425e+09  10:00 am- 5:00 pm     3.5  \n",
       "334  Dharwad  7.745398e+09  10:00 am- 5:00 pm     5.0  "
      ]
     },
     "execution_count": 14,
     "metadata": {},
     "output_type": "execute_result"
    }
   ],
   "source": [
    "df[df['Specialization']=='Cardiologist'].head()"
   ]
  },
  {
   "cell_type": "code",
   "execution_count": 18,
   "metadata": {},
   "outputs": [],
   "source": [
    "dataset = pd.DataFrame(columns=['Name','Specialization','Branch','Weekly schedule','Timing'])"
   ]
  },
  {
   "cell_type": "code",
   "execution_count": 19,
   "metadata": {},
   "outputs": [],
   "source": [
    "dataset = pd.read_excel('Doctor_database.xlsx')"
   ]
  },
  {
   "cell_type": "code",
   "execution_count": 22,
   "metadata": {},
   "outputs": [
    {
     "data": {
      "text/html": [
       "<div>\n",
       "<style scoped>\n",
       "    .dataframe tbody tr th:only-of-type {\n",
       "        vertical-align: middle;\n",
       "    }\n",
       "\n",
       "    .dataframe tbody tr th {\n",
       "        vertical-align: top;\n",
       "    }\n",
       "\n",
       "    .dataframe thead th {\n",
       "        text-align: right;\n",
       "    }\n",
       "</style>\n",
       "<table border=\"1\" class=\"dataframe\">\n",
       "  <thead>\n",
       "    <tr style=\"text-align: right;\">\n",
       "      <th></th>\n",
       "      <th>Name</th>\n",
       "      <th>Specialization</th>\n",
       "      <th>Branch</th>\n",
       "      <th>Weekly Schedule</th>\n",
       "      <th>Timing</th>\n",
       "    </tr>\n",
       "  </thead>\n",
       "  <tbody>\n",
       "    <tr>\n",
       "      <th>9</th>\n",
       "      <td>Chris Paul</td>\n",
       "      <td>Cardiologist</td>\n",
       "      <td>The Ottawa Hospital Riverside Campus</td>\n",
       "      <td>Monday to Friday</td>\n",
       "      <td>9AM to 9PM</td>\n",
       "    </tr>\n",
       "    <tr>\n",
       "      <th>10</th>\n",
       "      <td>Steven Philip</td>\n",
       "      <td>Cardiologist</td>\n",
       "      <td>The Ottawa Hospital General Campus</td>\n",
       "      <td>Saturday to Monday</td>\n",
       "      <td>10AM to 5PM</td>\n",
       "    </tr>\n",
       "    <tr>\n",
       "      <th>11</th>\n",
       "      <td>Michael Scott</td>\n",
       "      <td>Cardiologist</td>\n",
       "      <td>The Ottawa Hospital Civic Campus</td>\n",
       "      <td>Monday to Friday</td>\n",
       "      <td>8AM to 11PM</td>\n",
       "    </tr>\n",
       "    <tr>\n",
       "      <th>12</th>\n",
       "      <td>Jordan Kent</td>\n",
       "      <td>Cardiologist</td>\n",
       "      <td>Montfort Hospital</td>\n",
       "      <td>Monday to Friday</td>\n",
       "      <td>9AM to 9PM</td>\n",
       "    </tr>\n",
       "    <tr>\n",
       "      <th>13</th>\n",
       "      <td>Chris Paul</td>\n",
       "      <td>Cardiologist</td>\n",
       "      <td>St Johns Hospital</td>\n",
       "      <td>Saturday to Monday</td>\n",
       "      <td>8AM to 11PM</td>\n",
       "    </tr>\n",
       "  </tbody>\n",
       "</table>\n",
       "</div>"
      ],
      "text/plain": [
       "             Name Specialization                                Branch  \\\n",
       "9      Chris Paul   Cardiologist  The Ottawa Hospital Riverside Campus   \n",
       "10  Steven Philip   Cardiologist    The Ottawa Hospital General Campus   \n",
       "11  Michael Scott   Cardiologist      The Ottawa Hospital Civic Campus   \n",
       "12    Jordan Kent   Cardiologist                     Montfort Hospital   \n",
       "13     Chris Paul   Cardiologist                     St Johns Hospital   \n",
       "\n",
       "       Weekly Schedule       Timing  \n",
       "9     Monday to Friday   9AM to 9PM  \n",
       "10  Saturday to Monday  10AM to 5PM  \n",
       "11    Monday to Friday  8AM to 11PM  \n",
       "12    Monday to Friday   9AM to 9PM  \n",
       "13  Saturday to Monday  8AM to 11PM  "
      ]
     },
     "execution_count": 22,
     "metadata": {},
     "output_type": "execute_result"
    }
   ],
   "source": [
    "dataset[dataset['Specialization'] == 'Cardiologist'].head()"
   ]
  },
  {
   "cell_type": "code",
   "execution_count": null,
   "metadata": {},
   "outputs": [],
   "source": []
  }
 ],
 "metadata": {
  "interpreter": {
   "hash": "8299bf76fd9b44ecb9c85abf787c2b08d12876bc058fb67ec5a2f6016b3ba2a0"
  },
  "kernelspec": {
   "display_name": "Python 3.8.12 ('apple_tensorflow')",
   "language": "python",
   "name": "python3"
  },
  "language_info": {
   "codemirror_mode": {
    "name": "ipython",
    "version": 3
   },
   "file_extension": ".py",
   "mimetype": "text/x-python",
   "name": "python",
   "nbconvert_exporter": "python",
   "pygments_lexer": "ipython3",
   "version": "3.8.12"
  },
  "orig_nbformat": 4
 },
 "nbformat": 4,
 "nbformat_minor": 2
}
